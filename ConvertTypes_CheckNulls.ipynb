{
 "cells": [
  {
   "cell_type": "code",
   "execution_count": 4,
   "metadata": {
    "collapsed": true
   },
   "outputs": [],
   "source": [
    "import pymongo\n",
    "from pymongo import MongoClient\n",
    "from pymongo import GEO2D\n",
    "from datetime import datetime\n",
    "from pprint import pprint\n",
    "from bson.objectid import ObjectId\n",
    "import re\n",
    "import string\n",
    "from geojson import Point"
   ]
  },
  {
   "cell_type": "code",
   "execution_count": 5,
   "metadata": {
    "nbgrader": {
     "grade": false,
     "grade_id": "get_collection",
     "locked": false,
     "schema_version": 1,
     "solution": true
    }
   },
   "outputs": [
    {
     "data": {
      "text/plain": [
       "['sy_apr-14',\n",
       " 'y_apr-14',\n",
       " 'old_greenapr14',\n",
       " 'old_yellowapr14',\n",
       " 'sy2_apr-14',\n",
       " 'uberapr14']"
      ]
     },
     "execution_count": 5,
     "metadata": {},
     "output_type": "execute_result"
    }
   ],
   "source": [
    "client = MongoClient('mongodb://localhost:27017')\n",
    "db = client.cabbies\n",
    "db.collection_names()"
   ]
  },
  {
   "cell_type": "code",
   "execution_count": 6,
   "metadata": {
    "collapsed": true
   },
   "outputs": [],
   "source": [
    "collection = db['y_apr-14']"
   ]
  },
  {
   "cell_type": "code",
   "execution_count": 7,
   "metadata": {
    "nbgrader": {
     "grade": false,
     "grade_id": "get_amount_of_messages",
     "locked": false,
     "schema_version": 1,
     "solution": true
    }
   },
   "outputs": [
    {
     "data": {
      "text/plain": [
       "14618759"
      ]
     },
     "execution_count": 7,
     "metadata": {},
     "output_type": "execute_result"
    }
   ],
   "source": [
    "def get_amount_of_messages(collection):\n",
    "    return collection.count()  \n",
    "get_amount_of_messages(collection)"
   ]
  },
  {
   "cell_type": "code",
   "execution_count": 8,
   "metadata": {
    "nbgrader": {
     "grade": false,
     "grade_id": "get_bcced_people",
     "locked": false,
     "schema_version": 1,
     "solution": true
    }
   },
   "outputs": [
    {
     "data": {
      "text/plain": [
       "{'_id': ObjectId('5a3a7ce2f8d78e92a94d5133'),\n",
       " 'dropoff_Point': {'coordinates': [40.750822, -73.972513], 'type': 'Point'},\n",
       " 'dropoff_datetime': '2014-04-08 12:14:30',\n",
       " 'passenger_count': '1',\n",
       " 'payment_type': 'CRD',\n",
       " 'pickup_Point': {'coordinates': [40.757125, -73.975848], 'type': 'Point'},\n",
       " 'pickup_datetime': '2014-04-08 12:04:09',\n",
       " 'total_amount': '10.2',\n",
       " 'trip_distance': '1.0'}"
      ]
     },
     "execution_count": 8,
     "metadata": {},
     "output_type": "execute_result"
    }
   ],
   "source": [
    "collection.find_one()"
   ]
  },
  {
   "cell_type": "code",
   "execution_count": 195,
   "metadata": {},
   "outputs": [
    {
     "data": {
      "text/plain": [
       "{'_id': ObjectId('5a3ea9c5f8d78e92a92d0ab2'),\n",
       " 'dropoff_Point': {'coordinates': [40.750822, -73.972513], 'type': 'Point'},\n",
       " 'dropoff_datetime': '2014-04-08 12:14:30',\n",
       " 'passenger_count': '1',\n",
       " 'payment_type': 'CRD',\n",
       " 'pickup_Point': {'coordinates': [40.757125, -73.975848], 'type': 'Point'},\n",
       " 'pickup_datetime': '2014-04-08 12:04:09',\n",
       " 'total_amount': '10.2',\n",
       " 'trip_distance': '1.0'}"
      ]
     },
     "execution_count": 195,
     "metadata": {},
     "output_type": "execute_result"
    }
   ],
   "source": [
    "def convert_to_Point(collection):\n",
    "    bulk = collection.initialize_unordered_bulk_op()\n",
    "    counter = 0\n",
    "    count2 = 0\n",
    "    requests = []\n",
    "    cursor = collection.find(modifiers={\"$snapshot\": True})\n",
    "    for record in cursor:\n",
    "        if 'dropoff_Point' in record:\n",
    "            count2+=1\n",
    "            continue\n",
    "        droplat = float(record['dropoff_latitude'])\n",
    "        droplong = float(record['dropoff_longitude'])\n",
    "        picklat = float(record['pickup_latitude'])\n",
    "        picklong = float(record['pickup_longitude'])\n",
    "        dropPoint = Point((droplong,droplat))\n",
    "        pickPoint = Point((picklong,picklat))    \n",
    "        bulk.find({ '_id': record['_id']}).update({'$unset':{'dropoff_latitude':'',\\\n",
    "                               'dropoff_longitude':'',\\\n",
    "                               'pickup_latitude':'',\\\n",
    "                               'pickup_longitude':''},\\\n",
    "                     '$set':{'dropoff_Point' : dropPoint, 'pickup_Point' : pickPoint}})\n",
    "        counter+=1\n",
    "        if counter % 1000 == 0:\n",
    "            pprint(counter)\n",
    "            bulk.execute()\n",
    "            bulk = collection.initialize_unordered_bulk_op()\n",
    "    if (counter % 1000 != 0):\n",
    "        bulk.execute()\n",
    "    pprint(counter)\n",
    "    pprint(count2)\n",
    "    return\n",
    "collection = db['sy_apr-14']\n",
    "convert_to_Point(collection)\n",
    "collection.find_one()"
   ]
  },
  {
   "cell_type": "code",
   "execution_count": null,
   "metadata": {
    "collapsed": true
   },
   "outputs": [],
   "source": [
    "def switch_long_lat(collection):\n",
    "    bulk = collection.initialize_unordered_bulk_op()\n",
    "    counter = 0\n",
    "    count2 = 0\n",
    "    requests = []\n",
    "    cursor = collection.find(modifiers={\"$snapshot\": True})\n",
    "    for record in cursor:\n",
    "        droplat = record['dropoff_Point']['coordinates'][0]\n",
    "        droplong = record['dropoff_Point']['coordinates'][1]\n",
    "        picklat = record['pickup_Point']['coordinates'][0]\n",
    "        picklong = record['pickup_Point']['coordinates'][1]\n",
    "        dropPoint = Point((droplong,droplat))\n",
    "        pickPoint = Point((picklong,picklat))    \n",
    "        bulk.find({ '_id': record['_id']}).update({'$set':{'dropoff_Point' : dropPoint, 'pickup_Point' : pickPoint}})\n",
    "        counter+=1\n",
    "        if counter % 1000 == 0:\n",
    "            pprint(counter)\n",
    "            bulk.execute()\n",
    "            bulk = collection.initialize_unordered_bulk_op()\n",
    "    if (counter % 1000 != 0):\n",
    "        bulk.execute()\n",
    "    pprint(counter)\n",
    "    pprint(count2)\n",
    "    return"
   ]
  },
  {
   "cell_type": "code",
   "execution_count": 207,
   "metadata": {},
   "outputs": [
    {
     "data": {
      "text/plain": [
       "{'_id': ObjectId('5a3ea9c5f8d78e92a92d0ab2'),\n",
       " 'dropoff_Point': {'coordinates': [40.750822, -73.972513], 'type': 'Point'},\n",
       " 'dropoff_datetime': datetime.datetime(2014, 4, 8, 12, 14, 30),\n",
       " 'dropoff_weekday': 1,\n",
       " 'passenger_count': 1,\n",
       " 'payment_type': 'CRD',\n",
       " 'pickup_Point': {'coordinates': [40.757125, -73.975848], 'type': 'Point'},\n",
       " 'pickup_datetime': datetime.datetime(2014, 4, 8, 12, 4, 9),\n",
       " 'pickup_weekday': 1,\n",
       " 'total_amount': 10.2,\n",
       " 'trip_distance': 1.0}"
      ]
     },
     "execution_count": 207,
     "metadata": {},
     "output_type": "execute_result"
    }
   ],
   "source": [
    "#from string to datetime, float, int\n",
    "def convert_from_string(date_format, collection):\n",
    "    bulk = collection.initialize_unordered_bulk_op()\n",
    "    counter = 0\n",
    "    count2 = 0\n",
    "    requests = []\n",
    "    cursor = collection.find(modifiers={\"$snapshot\": True})\n",
    "    for record in cursor:\n",
    "        #if type(record['passenger_count']) is int:\n",
    "        #    count2+=1\n",
    "        #    continue\n",
    "        passenger_count = int(record['passenger_count'])\n",
    "        trip_distance = float(record['trip_distance'])\n",
    "        total_amount = float(record['total_amount'])\n",
    "        pickup_datetime = datetime.strptime(record['pickup_datetime'],date_format)\n",
    "        pickup_weekday = pickup_datetime.weekday()\n",
    "        dropoff_datetime = datetime.strptime(record['dropoff_datetime'],date_format)\n",
    "        dropoff_weekday = dropoff_datetime.weekday()\n",
    "        bulk.find({'_id':record['_id']}).update({'$set':{'passenger_count' : passenger_count,\\\n",
    "                                       'trip_distance' : trip_distance,\\\n",
    "                                       'total_amount' : total_amount,\\\n",
    "                                       'pickup_datetime' : pickup_datetime,\\\n",
    "                                       'pickup_weekday' : pickup_weekday,\\\n",
    "                                       'dropoff_datetime' : dropoff_datetime,\\\n",
    "                                       'dropoff_weekday' : dropoff_weekday}})\n",
    "        counter+=1\n",
    "        if counter % 1000 == 0:\n",
    "            pprint(counter)\n",
    "            bulk.execute()\n",
    "            bulk = collection.initialize_unordered_bulk_op()\n",
    "    if (counter % 1000 != 0):\n",
    "        bulk.execute()\n",
    "    pprint(counter)\n",
    "    pprint(count2)\n",
    "    return\n",
    "date_format = '%Y-%m-%d %H:%M:%S'\n",
    "collection = db['sy_apr-14']\n",
    "convert_from_string(date_format, collection)\n",
    "collection.find_one()"
   ]
  },
  {
   "cell_type": "code",
   "execution_count": 204,
   "metadata": {},
   "outputs": [
    {
     "data": {
      "text/plain": [
       "{'_id': ObjectId('5a3ea9c5f8d78e92a92d0ab2'),\n",
       " 'dropoff_Point': {'coordinates': [40.750822, -73.972513], 'type': 'Point'},\n",
       " 'dropoff_datetime': '2014-04-08 12:14:30',\n",
       " 'passenger_count': '1',\n",
       " 'payment_type': 'CRD',\n",
       " 'pickup_Point': {'coordinates': [40.757125, -73.975848], 'type': 'Point'},\n",
       " 'pickup_datetime': '2014-04-08 12:04:09',\n",
       " 'total_amount': '10.2',\n",
       " 'trip_distance': '1.0'}"
      ]
     },
     "execution_count": 204,
     "metadata": {},
     "output_type": "execute_result"
    }
   ],
   "source": [
    "#from string to datetime, float, int\n",
    "def convert_to_string(date_format, collection):\n",
    "    cursor = collection.find()\n",
    "    for record in cursor:\n",
    "        passenger_count = str(record['passenger_count'])\n",
    "        trip_distance = str(record['trip_distance'])\n",
    "        total_amount = str(record['total_amount'])\n",
    "        pickup_datetime = datetime.strftime(record['pickup_datetime'],date_format)\n",
    "        dropoff_datetime = datetime.strftime(record['dropoff_datetime'],date_format)\n",
    "        collection.update_one({'_id':record['_id']},\\\n",
    "                              {'$set':{'passenger_count' : passenger_count,\\\n",
    "                                       'trip_distance' : trip_distance,\\\n",
    "                                       'total_amount' : total_amount,\\\n",
    "                                       'pickup_datetime' : pickup_datetime,\\\n",
    "                                       'dropoff_datetime' : dropoff_datetime}})\n",
    "    return\n",
    "date_format = '%Y-%m-%d %H:%M:%S'\n",
    "collection = db['sy_apr-14']\n",
    "convert_to_string(date_format, collection)\n",
    "collection.find_one()"
   ]
  },
  {
   "cell_type": "code",
   "execution_count": 150,
   "metadata": {
    "nbgrader": {
     "grade": false,
     "grade_id": "get_emails_in_thread",
     "locked": false,
     "schema_version": 1,
     "solution": true
    }
   },
   "outputs": [
    {
     "name": "stdout",
     "output_type": "stream",
     "text": [
      "total\t 50\n",
      "_id \t 0\n",
      "pickup_datetime \t 0\n",
      "dropoff_datetime \t 0\n",
      "passenger_count \t 0\n",
      "trip_distance \t 0\n",
      "pickup_longitude \t 0\n",
      "pickup_latitude \t 0\n",
      "dropoff_longitude \t 0\n",
      "dropoff_latitude \t 0\n",
      "payment_type \t 0\n",
      "total_amount \t 0\n"
     ]
    }
   ],
   "source": [
    "#Checks how many headers has Nulls\n",
    "def check_Nulls(collection):\n",
    "    document = collection.find_one()\n",
    "    print('total\\t',collection.count())\n",
    "    for header in document:\n",
    "        filter = {header: None}\n",
    "        print(header,'\\t',collection.count(filter))\n",
    "    return\n",
    "collection = db['sy_apr-14']\n",
    "check_Nulls(collection)\n",
    "\n"
   ]
  },
  {
   "cell_type": "code",
   "execution_count": 151,
   "metadata": {},
   "outputs": [
    {
     "name": "stdout",
     "output_type": "stream",
     "text": [
      "total\t 50\n",
      "_id \t 0\n",
      "pickup_datetime \t 0\n",
      "dropoff_datetime \t 0\n",
      "passenger_count \t 0\n",
      "trip_distance \t 0\n",
      "pickup_longitude \t 50\n",
      "pickup_latitude \t 50\n",
      "dropoff_longitude \t 50\n",
      "dropoff_latitude \t 50\n",
      "payment_type \t 50\n",
      "total_amount \t 0\n"
     ]
    }
   ],
   "source": [
    "#Checks how many headers has String Type\n",
    "def check_Strings(collection):\n",
    "    print('total\\t',collection.count())\n",
    "    document = collection.find_one()\n",
    "    for header in document:\n",
    "        filter = {header: {'$type': 2}}\n",
    "        print(header,'\\t',collection.count(filter))\n",
    "    return\n",
    "collection = db['sy_apr-14']\n",
    "check_Strings(collection)\n"
   ]
  }
 ],
 "metadata": {
  "celltoolbar": "Create Assignment",
  "kernelspec": {
   "display_name": "Python 3",
   "language": "python",
   "name": "python3"
  },
  "language_info": {
   "codemirror_mode": {
    "name": "ipython",
    "version": 3
   },
   "file_extension": ".py",
   "mimetype": "text/x-python",
   "name": "python",
   "nbconvert_exporter": "python",
   "pygments_lexer": "ipython3",
   "version": "3.6.3"
  }
 },
 "nbformat": 4,
 "nbformat_minor": 2
}
